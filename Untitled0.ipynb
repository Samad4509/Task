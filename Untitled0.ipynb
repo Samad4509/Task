{
  "nbformat": 4,
  "nbformat_minor": 0,
  "metadata": {
    "colab": {
      "provenance": []
    },
    "kernelspec": {
      "name": "python3",
      "display_name": "Python 3"
    },
    "language_info": {
      "name": "python"
    }
  },
  "cells": [
    {
      "cell_type": "code",
      "source": [
        "#1. Write a Python program that will take a String as input and extract only the characters at even indices.\n",
        "def extract_even_indices(s):\n",
        "   \n",
        "    # Initialize an empty string\n",
        "    even_chars = \"\"\n",
        "    \n",
        "    # Loop through the string, starting at index 0 and incrementing by 2 each time\n",
        "    for i in range(0, len(s), 2):\n",
        "        # Append the character at the current index to the even_chars string\n",
        "        even_chars += s[i]\n",
        "    \n",
        "    # Return the resulting string\n",
        "    return even_chars\n",
        "\n",
        "# Example usage\n",
        "s = \"Tanjir Ahmed\"\n",
        "result = extract_even_indices(s)\n",
        "print(result)"
      ],
      "metadata": {
        "colab": {
          "base_uri": "https://localhost:8080/"
        },
        "id": "m0Ubul4XYUcO",
        "outputId": "aaf9a557-a52e-486b-f50d-a7d92ba853d7"
      },
      "execution_count": 34,
      "outputs": [
        {
          "output_type": "stream",
          "name": "stdout",
          "text": [
            "Tni he\n"
          ]
        }
      ]
    },
    {
      "cell_type": "code",
      "source": [
        "# Ans:2.Write a Python program that will take a String as input and extract only the characters at even indices.\n",
        "\n",
        "def find_max_min_avg(numbers):\n",
        "    # Initialize the minimum and maximum to the first number in the list\n",
        "    minimum = numbers[0]\n",
        "    maximum = numbers[0]\n",
        "    total = 0\n",
        "    \n",
        "    # Loop through the list to find the minimum, maximum and total of numbers\n",
        "    for num in numbers:\n",
        "        if num < minimum:\n",
        "            minimum = num\n",
        "        if num > maximum:\n",
        "            maximum = num\n",
        "        total += num\n",
        "    \n",
        "    # Calculate the average\n",
        "    avg = total / len(numbers)\n",
        "    \n",
        "    # Return the results as a tuple\n",
        "    return (minimum, maximum, avg)\n",
        "\n",
        "# Example usage\n",
        "numbers = [23, 45, 67, 89, 12, 34]\n",
        "result = find_max_min_avg(numbers)\n",
        "print(\"Minimum:\", result[0])\n",
        "print(\"Maximum:\", result[1])\n",
        "print(\"Average:\", result[2])\n"
      ],
      "metadata": {
        "colab": {
          "base_uri": "https://localhost:8080/"
        },
        "id": "E3WGGIU7Yj49",
        "outputId": "8de0cf47-68c8-4f55-b46e-5ab30ddc55af"
      },
      "execution_count": 35,
      "outputs": [
        {
          "output_type": "stream",
          "name": "stdout",
          "text": [
            "Minimum: 12\n",
            "Maximum: 89\n",
            "Average: 45.0\n"
          ]
        }
      ]
    },
    {
      "cell_type": "code",
      "source": [
        "# ANs:3. Write a Python program to identify a year as a leap year.\n",
        "def is_leap_year(year):\n",
        "    \"\"\"\n",
        "    This function takes a year as input and returns True if it's a leap year, False otherwise.\n",
        "    \"\"\"\n",
        "    if year % 4 == 0:\n",
        "        if year % 100 == 0:\n",
        "            if year % 400 == 0:\n",
        "                return True\n",
        "            else:\n",
        "                return False\n",
        "        else:\n",
        "            return True\n",
        "    else:\n",
        "        return False\n",
        "\n",
        "# Example usage\n",
        "year = 2024\n",
        "if is_leap_year(year):\n",
        "    print(year, \"is a leap year.\")\n",
        "else:\n",
        "    print(year, \"is not a leap year.\")"
      ],
      "metadata": {
        "colab": {
          "base_uri": "https://localhost:8080/"
        },
        "id": "jPjDaPZPY0Cz",
        "outputId": "dadde6e4-9038-439f-d03e-ff2719d66bbe"
      },
      "execution_count": 36,
      "outputs": [
        {
          "output_type": "stream",
          "name": "stdout",
          "text": [
            "2024 is a leap year.\n"
          ]
        }
      ]
    },
    {
      "cell_type": "code",
      "source": [
        "#Ans:4. Write a Python program to find the Consonants and Vowels from a given String.\n",
        "def find_vowels_consonants(s):\n",
        "    \"\"\"\n",
        "    This function takes a string as input and returns a tuple containing two lists: one for the vowels\n",
        "    and another for the consonants.\n",
        "    \"\"\"\n",
        "    vowels = ['a', 'e', 'i', 'o', 'u']\n",
        "    consonants = []\n",
        "    vowels_list = []\n",
        "    \n",
        "    # Loop through each character in the string\n",
        "    for char in s.lower():\n",
        "        # If the character is a letter\n",
        "        if char.isalpha():\n",
        "            # If the character is a vowel, append it to the vowels list\n",
        "            if char in vowels:\n",
        "                vowels_list.append(char)\n",
        "            # Otherwise, append it to the consonants list\n",
        "            else:\n",
        "                consonants.append(char)\n",
        "    \n",
        "    # Return the results as a tuple of two lists\n",
        "    return (vowels_list, consonants)\n",
        "\n",
        "# Example usage\n",
        "s = \"Hello World\"\n",
        "result = find_vowels_consonants(s)\n",
        "print(\"Vowels:\", result[0])\n",
        "print(\"Consonants:\", result[1])\n"
      ],
      "metadata": {
        "colab": {
          "base_uri": "https://localhost:8080/"
        },
        "id": "o4REuNDWZT0t",
        "outputId": "fd93f540-8734-4796-a730-7fe3cd0995fe"
      },
      "execution_count": 37,
      "outputs": [
        {
          "output_type": "stream",
          "name": "stdout",
          "text": [
            "Vowels: ['e', 'o', 'o']\n",
            "Consonants: ['h', 'l', 'l', 'w', 'r', 'l', 'd']\n"
          ]
        }
      ]
    }
  ]
}